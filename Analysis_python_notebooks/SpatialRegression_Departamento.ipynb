{
 "cells": [
  {
   "cell_type": "markdown",
   "id": "cae2abf0",
   "metadata": {},
   "source": [
    "# Regresión espacial \n",
    "\n",
    "Consideraremos dos procesos relacionados pero muy diferentes que dan lugar a efectos espaciales: *Heterogeneidad Espacial (SH)* y *Dependencia Espacial (SD)*.\n",
    "\n",
    "La heterogeneidad espacial se refiere a la variación en las propiedades de los datos en diferentes áreas del espacio, lo que implica que las relaciones entre las variables no necesariamente sean homogéneas en toda la región de estudio (Rey et al. 2023). La dependencia espacial, por otro lado, se refiere a la tendencia de valores similares a agruparse espacialmente (Anselin 1988). Esto implica que el valor de una variable en un punto del espacio está correlacionado con los valores de la misma variable en puntos cercanos, un fenómeno también conocido como autocorrelación. \n",
    "\n",
    "Los modelos clásicos suelen asumir que las observaciones son independientes entre sí (sin dependencia espacial) y que la relación entre las variables es constante en toda la región de estudio (sin heterogeneidad espacial) (Lesage 2011, Banerjee 2008)."
   ]
  },
  {
   "cell_type": "markdown",
   "id": "8d0f7280",
   "metadata": {},
   "source": [
    "# Dependencia espacial\n"
   ]
  },
  {
   "cell_type": "markdown",
   "id": "ac19ad67",
   "metadata": {},
   "source": [
    "### 1. Modelos de regresión para dependencia espacial tipo SAR (Modelos autorregresivos espaciales)\n",
    "\n",
    "Para incorporar la dependencia espacial en los modelos, se puede utilizar los llamados Modelos Autoregresivos Simultáneos (Whittle 1954), los cuales permiten modelar la dependencia espacial a través de la inclusión de una matriz de vecindad. Esta matriz define la estructura de los vecinos de cada unidad de mapeo, ya sea en función de la distancia entre unidades o a partir de relaciones de contigüidad (Anselin 1996, Elhorst 2014).\n",
    "\n",
    "Los modelos de autoregresión espacial, en lugar de asumir que las observaciones son independientes entre sí, reconocen que las unidades cercanas en el espacio tienden a presentar valores similares (Anselin 1988`).\n",
    "\n",
    "$$Y = \\rho W Y + X \\beta + \\epsilon$$ \n"
   ]
  },
  {
   "cell_type": "code",
   "execution_count": 1,
   "id": "ec9250c3",
   "metadata": {},
   "outputs": [
    {
     "name": "stdout",
     "output_type": "stream",
     "text": [
      "<class 'geopandas.geodataframe.GeoDataFrame'>\n",
      "RangeIndex: 34 entries, 0 to 33\n",
      "Data columns (total 15 columns):\n",
      " #   Column                                   Non-Null Count  Dtype   \n",
      "---  ------                                   --------------  -----   \n",
      " 0   ID_ESPACIA                               34 non-null     object  \n",
      " 1   AREA_OFICI                               34 non-null     float64 \n",
      " 2   NOMBRE_DPT                               34 non-null     object  \n",
      " 3   NUMPOINTS                                34 non-null     float64 \n",
      " 4   elev_mean                                34 non-null     float64 \n",
      " 5   Temperatura_media_anual_mean             34 non-null     float64 \n",
      " 6   Precipitacion_anual_mean                 34 non-null     float64 \n",
      " 7   Rango_medio_diurno_mean                  34 non-null     float64 \n",
      " 8   Precipitacion_mes_mas_lluvioso_mean      34 non-null     float64 \n",
      " 9   Precipitacion_mes_mas_seco_mean          34 non-null     float64 \n",
      " 10  Isotermalidad_mean                       34 non-null     float64 \n",
      " 11  Estacionalidad_de_la_temperatura_mean    34 non-null     float64 \n",
      " 12  Rango_anual_de_temperatura_mean          34 non-null     float64 \n",
      " 13  Estacionalidad_de_la_precipitacion_mean  34 non-null     float64 \n",
      " 14  geometry                                 34 non-null     geometry\n",
      "dtypes: float64(12), geometry(1), object(2)\n",
      "memory usage: 4.1+ KB\n"
     ]
    },
    {
     "data": {
      "text/html": [
       "<div>\n",
       "<style scoped>\n",
       "    .dataframe tbody tr th:only-of-type {\n",
       "        vertical-align: middle;\n",
       "    }\n",
       "\n",
       "    .dataframe tbody tr th {\n",
       "        vertical-align: top;\n",
       "    }\n",
       "\n",
       "    .dataframe thead th {\n",
       "        text-align: right;\n",
       "    }\n",
       "</style>\n",
       "<table border=\"1\" class=\"dataframe\">\n",
       "  <thead>\n",
       "    <tr style=\"text-align: right;\">\n",
       "      <th></th>\n",
       "      <th>ID_ESPACIA</th>\n",
       "      <th>area</th>\n",
       "      <th>departamento</th>\n",
       "      <th>conteo</th>\n",
       "      <th>elev_mean</th>\n",
       "      <th>Temperatura_media_anual_mean</th>\n",
       "      <th>Precipitacion_anual_mean</th>\n",
       "      <th>Rango_medio_diurno_mean</th>\n",
       "      <th>Precipitacion_mes_mas_lluvioso_mean</th>\n",
       "      <th>Precipitacion_mes_mas_seco_mean</th>\n",
       "      <th>Isotermalidad_mean</th>\n",
       "      <th>Estacionalidad_de_la_temperatura_mean</th>\n",
       "      <th>Rango_anual_de_temperatura_mean</th>\n",
       "      <th>Estacionalidad_de_la_precipitacion_mean</th>\n",
       "      <th>geometry</th>\n",
       "    </tr>\n",
       "  </thead>\n",
       "  <tbody>\n",
       "    <tr>\n",
       "      <th>0</th>\n",
       "      <td>11</td>\n",
       "      <td>1605.0</td>\n",
       "      <td>BOGOTÁ</td>\n",
       "      <td>0.0</td>\n",
       "      <td>3223.298701</td>\n",
       "      <td>9.803929</td>\n",
       "      <td>1266.961039</td>\n",
       "      <td>9.179502</td>\n",
       "      <td>168.558442</td>\n",
       "      <td>39.285714</td>\n",
       "      <td>80.775546</td>\n",
       "      <td>35.473980</td>\n",
       "      <td>11.352364</td>\n",
       "      <td>38.033142</td>\n",
       "      <td>MULTIPOLYGON (((4881435.89 2091783.395, 488145...</td>\n",
       "    </tr>\n",
       "    <tr>\n",
       "      <th>1</th>\n",
       "      <td>13</td>\n",
       "      <td>26383.0</td>\n",
       "      <td>BOLÍVAR</td>\n",
       "      <td>32.0</td>\n",
       "      <td>263.826877</td>\n",
       "      <td>26.778483</td>\n",
       "      <td>2270.948617</td>\n",
       "      <td>9.940637</td>\n",
       "      <td>355.376285</td>\n",
       "      <td>29.230040</td>\n",
       "      <td>83.090072</td>\n",
       "      <td>42.905979</td>\n",
       "      <td>12.014608</td>\n",
       "      <td>59.258936</td>\n",
       "      <td>MULTIPOLYGON (((4753419.752 2752315.572, 47534...</td>\n",
       "    </tr>\n",
       "    <tr>\n",
       "      <th>2</th>\n",
       "      <td>15</td>\n",
       "      <td>23189.0</td>\n",
       "      <td>BOYACÁ</td>\n",
       "      <td>6.0</td>\n",
       "      <td>2262.947658</td>\n",
       "      <td>15.462887</td>\n",
       "      <td>1776.909091</td>\n",
       "      <td>9.494651</td>\n",
       "      <td>279.260790</td>\n",
       "      <td>36.449036</td>\n",
       "      <td>80.130047</td>\n",
       "      <td>43.557213</td>\n",
       "      <td>11.859600</td>\n",
       "      <td>53.210623</td>\n",
       "      <td>MULTIPOLYGON (((5092792.513 2336225.178, 50929...</td>\n",
       "    </tr>\n",
       "  </tbody>\n",
       "</table>\n",
       "</div>"
      ],
      "text/plain": [
       "  ID_ESPACIA     area departamento  conteo    elev_mean  \\\n",
       "0         11   1605.0       BOGOTÁ     0.0  3223.298701   \n",
       "1         13  26383.0      BOLÍVAR    32.0   263.826877   \n",
       "2         15  23189.0       BOYACÁ     6.0  2262.947658   \n",
       "\n",
       "   Temperatura_media_anual_mean  Precipitacion_anual_mean  \\\n",
       "0                      9.803929               1266.961039   \n",
       "1                     26.778483               2270.948617   \n",
       "2                     15.462887               1776.909091   \n",
       "\n",
       "   Rango_medio_diurno_mean  Precipitacion_mes_mas_lluvioso_mean  \\\n",
       "0                 9.179502                           168.558442   \n",
       "1                 9.940637                           355.376285   \n",
       "2                 9.494651                           279.260790   \n",
       "\n",
       "   Precipitacion_mes_mas_seco_mean  Isotermalidad_mean  \\\n",
       "0                        39.285714           80.775546   \n",
       "1                        29.230040           83.090072   \n",
       "2                        36.449036           80.130047   \n",
       "\n",
       "   Estacionalidad_de_la_temperatura_mean  Rango_anual_de_temperatura_mean  \\\n",
       "0                              35.473980                        11.352364   \n",
       "1                              42.905979                        12.014608   \n",
       "2                              43.557213                        11.859600   \n",
       "\n",
       "   Estacionalidad_de_la_precipitacion_mean  \\\n",
       "0                                38.033142   \n",
       "1                                59.258936   \n",
       "2                                53.210623   \n",
       "\n",
       "                                            geometry  \n",
       "0  MULTIPOLYGON (((4881435.89 2091783.395, 488145...  \n",
       "1  MULTIPOLYGON (((4753419.752 2752315.572, 47534...  \n",
       "2  MULTIPOLYGON (((5092792.513 2336225.178, 50929...  "
      ]
     },
     "execution_count": 1,
     "metadata": {},
     "output_type": "execute_result"
    }
   ],
   "source": [
    "import geopandas as gpd\n",
    "import numpy as np\n",
    "import libpysal\n",
    "from libpysal.weights import Queen\n",
    "from sklearn.preprocessing import StandardScaler\n",
    "import spreg\n",
    "\n",
    "# Cargar datos\n",
    "gdf = gpd.read_file(r\"G:\\My Drive\\Investigacion2025\\Posgrado_Statistics\\GeoAnalysis\\data\\Balso_Departamento.gpkg\")\n",
    "gdf.info()\n",
    "\n",
    "# Renombramos variables\n",
    "gdf = gdf.rename(columns={'NOMBRE_DPT': 'departamento', \n",
    "                    'AREA_OFICI': 'area',\n",
    "                    'NUMPOINTS': 'conteo'})\n",
    "gdf.head(3)\n"
   ]
  },
  {
   "cell_type": "code",
   "execution_count": 15,
   "id": "ba67460d",
   "metadata": {},
   "outputs": [
    {
     "data": {
      "text/plain": [
       "Index(['ID_ESPACIA', 'area', 'departamento', 'conteo', 'elev_mean',\n",
       "       'Temperatura_media_anual_mean', 'Precipitacion_anual_mean',\n",
       "       'Rango_medio_diurno_mean', 'Precipitacion_mes_mas_lluvioso_mean',\n",
       "       'Precipitacion_mes_mas_seco_mean', 'Isotermalidad_mean',\n",
       "       'Estacionalidad_de_la_temperatura_mean',\n",
       "       'Rango_anual_de_temperatura_mean',\n",
       "       'Estacionalidad_de_la_precipitacion_mean', 'geometry'],\n",
       "      dtype='object')"
      ]
     },
     "execution_count": 15,
     "metadata": {},
     "output_type": "execute_result"
    }
   ],
   "source": [
    "gdf.columns"
   ]
  },
  {
   "cell_type": "code",
   "execution_count": 16,
   "id": "a34f51a6",
   "metadata": {},
   "outputs": [],
   "source": [
    "# Renombrar variables en el gdf original a nombres cortos\n",
    "gdf = gdf.rename(columns={\n",
    "    'elev_mean': 'elev',\n",
    "    'Temperatura_media_anual_mean': 'temp',\n",
    "    'Precipitacion_anual_mean': 'precip',\n",
    "    'Rango_medio_diurno_mean': 'rmd',\n",
    "    'Precipitacion_mes_mas_lluvioso_mean': 'p_lluv',\n",
    "    'Precipitacion_mes_mas_seco_mean': 'p_seco',\n",
    "    'Isotermalidad_mean': 'isoterm',\n",
    "    'Estacionalidad_de_la_temperatura_mean': 'est_temp',\n",
    "    'Rango_anual_de_temperatura_mean': 'rango_temp',\n",
    "    'Estacionalidad_de_la_precipitacion_mean': 'est_precip'\n",
    "})"
   ]
  },
  {
   "cell_type": "markdown",
   "id": "e9cf1fc0",
   "metadata": {},
   "source": [
    "En un modelo OLS tradicional, la interpretación de un coeficiente es sencilla: si X aumenta en una unidad, Y cambia en β unidades, manteniendo todo lo demás constante."
   ]
  },
  {
   "cell_type": "markdown",
   "id": "e8c117ad",
   "metadata": {},
   "source": [
    "### Modelo SLX (Spatial Lag of X)\n",
    "Incluye rezagos espaciales de las variables independientes (WX) como predictores adicionales en un modelo OLS. \n",
    "Es útil cuando quieres ver cómo las características de áreas vecinas influyen sobre una región (por ejemplo, cómo el clima en municipios cercanos afecta el valor local de y)."
   ]
  },
  {
   "cell_type": "code",
   "execution_count": 19,
   "id": "ba3e901a",
   "metadata": {},
   "outputs": [
    {
     "name": "stderr",
     "output_type": "stream",
     "text": [
      "C:\\Users\\Valentina Cardona\\AppData\\Local\\Temp\\ipykernel_22616\\1722801646.py:19: FutureWarning: `use_index` defaults to False but will default to True in future. Set True/False directly to control this behavior and silence this warning\n",
      "  w = Queen.from_dataframe(gdf)\n"
     ]
    },
    {
     "name": "stdout",
     "output_type": "stream",
     "text": [
      "REGRESSION RESULTS\n",
      "------------------\n",
      "\n",
      "SUMMARY OF OUTPUT: ORDINARY LEAST SQUARES\n",
      "-----------------------------------------\n",
      "Data set            :     unknown\n",
      "Weights matrix      :        None\n",
      "Dependent Variable  :  log_conteo                Number of Observations:          34\n",
      "Mean dependent var  :      2.7670                Number of Variables   :          21\n",
      "S.D. dependent var  :      1.9525                Degrees of Freedom    :          13\n",
      "R-squared           :      0.8612\n",
      "Adjusted R-squared  :      0.6476\n",
      "Sum squared residual:     17.4641                F-statistic           :      4.0324\n",
      "Sigma-square        :       1.343                Prob(F-statistic)     :    0.006512\n",
      "S.E. of regression  :       1.159                Log likelihood        :     -36.918\n",
      "Sigma-square ML     :       0.514                Akaike info criterion :     115.837\n",
      "S.E of regression ML:      0.7167                Schwarz criterion     :     147.890\n",
      "\n",
      "------------------------------------------------------------------------------------\n",
      "            Variable     Coefficient       Std.Error     t-Statistic     Probability\n",
      "------------------------------------------------------------------------------------\n",
      "            CONSTANT         3.52197         0.61398         5.73624         0.00007\n",
      "                elev        20.83189         5.25694         3.96274         0.00162\n",
      "                temp        20.75923         5.03832         4.12027         0.00121\n",
      "              precip         2.74570         2.09256         1.31212         0.21218\n",
      "                 rmd        -4.31359         5.19102        -0.83097         0.42099\n",
      "              p_lluv        -0.96593         1.66781        -0.57916         0.57238\n",
      "              p_seco        -0.84777         1.02864        -0.82417         0.42471\n",
      "             isoterm         1.78730         2.89376         0.61764         0.54748\n",
      "            est_temp        -0.77811         0.82693        -0.94097         0.36388\n",
      "          rango_temp         4.78724         5.71867         0.83712         0.41765\n",
      "          est_precip        -0.94671         0.98225        -0.96381         0.35273\n",
      "              w_elev        -1.70595         2.31342        -0.73741         0.47397\n",
      "              w_temp        -1.51326         2.34050        -0.64656         0.52917\n",
      "            w_precip        -1.19216         1.58827        -0.75060         0.46626\n",
      "               w_rmd        -7.55816         5.24939        -1.43982         0.17356\n",
      "            w_p_lluv         0.17875         1.04413         0.17120         0.86670\n",
      "            w_p_seco         2.30646         0.79102         2.91582         0.01204\n",
      "           w_isoterm         1.45333         3.18347         0.45652         0.65555\n",
      "          w_est_temp        -2.46848         0.60170        -4.10248         0.00125\n",
      "        w_rango_temp         8.69495         6.27541         1.38556         0.18919\n",
      "        w_est_precip         0.56376         0.74384         0.75791         0.46202\n",
      "------------------------------------------------------------------------------------\n",
      "\n",
      "REGRESSION DIAGNOSTICS\n",
      "MULTICOLLINEARITY CONDITION NUMBER         302.663\n",
      "\n",
      "TEST ON NORMALITY OF ERRORS\n",
      "TEST                             DF        VALUE           PROB\n",
      "Jarque-Bera                       2          6.099           0.0474\n",
      "\n",
      "DIAGNOSTICS FOR HETEROSKEDASTICITY\n",
      "RANDOM COEFFICIENTS\n",
      "TEST                             DF        VALUE           PROB\n",
      "Breusch-Pagan test               20         45.470           0.0010\n",
      "Koenker-Bassett test             20         22.707           0.3034\n",
      "================================ END OF REPORT =====================================\n"
     ]
    },
    {
     "name": "stderr",
     "output_type": "stream",
     "text": [
      "c:\\Users\\Valentina Cardona\\anaconda3\\envs\\GeoAnalysis\\Lib\\site-packages\\libpysal\\weights\\contiguity.py:347: UserWarning: The weights matrix is not fully connected: \n",
      " There are 2 disconnected components.\n",
      " There is 1 island with id: 25.\n",
      "  W.__init__(self, neighbors, ids=ids, **kw)\n"
     ]
    }
   ],
   "source": [
    "\n",
    "# Aplica la transformación log + 1 a la varaible de interes\n",
    "import pandas as pd\n",
    "\n",
    "gdf['y'] = np.log(gdf['conteo'] + 1)\n",
    "\n",
    "# Definir las variables dependiente e independientes\n",
    "y = gdf['y'].values.reshape((-1, 1))\n",
    "# Ahora define la lista de variables independientes con los nombres cortos\n",
    "independent_vars = ['elev', 'temp', 'precip', 'rmd', 'p_lluv',\n",
    "    'p_seco', 'isoterm', 'est_temp', 'rango_temp', 'est_precip']\n",
    "X = gdf[independent_vars].values\n",
    "\n",
    "# Escalar las variables independientes\n",
    "st = StandardScaler()\n",
    "X_scaled = st.fit_transform(X)\n",
    "X_scaled_df = pd.DataFrame(X_scaled, columns=independent_vars)\n",
    "\n",
    "# Crear la matriz de pesos espaciales por contigüidad tipo Queen\n",
    "w = Queen.from_dataframe(gdf)\n",
    "\n",
    "# Calcular la autocorrelación exógena de las variables independientes escaladas\n",
    "wx_dict = {}\n",
    "for var in independent_vars:\n",
    "    wx_dict[f'w_{var}'] = libpysal.weights.spatial_lag.lag_spatial(w, X_scaled_df[var])\n",
    "\n",
    "wx_df = pd.DataFrame(wx_dict)\n",
    "\n",
    "# Combinar las variables independientes originales escaladas con sus versiones espacialmente rezagadas\n",
    "slx_exog = pd.concat([X_scaled_df, wx_df], axis=1)\n",
    "\n",
    "# Ajustar el modelo OLS con las variables exógenas espacialmente rezagadas (SLX)\n",
    "ols_model_slx = spreg.OLS(gdf['y'].values.reshape((-1, 1)),\n",
    "                          slx_exog.values,\n",
    "                          name_y='log_conteo',\n",
    "                          name_x=slx_exog.columns.tolist(),\n",
    "                          name_w='queen_contiguity')\n",
    "\n",
    "# Imprimir el resumen del modelo OLS con SLX\n",
    "print(ols_model_slx.summary)\n",
    "\n",
    "with open(\"resumen_modelo.txt\", \"w\") as f:\n",
    "    f.write(str(ols_model_slx.summary))"
   ]
  },
  {
   "cell_type": "markdown",
   "id": "a1f8eed3",
   "metadata": {},
   "source": [
    "### Modelo de error espacial — GM_Error_Het:\n",
    "\n",
    "Modela la dependencia espacial en los errores del modelo, no en las variables ni en la variable dependiente.\n",
    "\n",
    "Principal uso: \n",
    "- Hay evidencia de autocorrelación en los residuos de un modelo OLS.\n",
    "- El fenómeno espacial no está directamente relacionado con las variables independientes, sino con factores no observados."
   ]
  },
  {
   "cell_type": "code",
   "execution_count": null,
   "id": "a495de99",
   "metadata": {},
   "outputs": [
    {
     "name": "stdout",
     "output_type": "stream",
     "text": [
      "REGRESSION RESULTS\n",
      "------------------\n",
      "\n",
      "SUMMARY OF OUTPUT: GM SPATIALLY WEIGHTED LEAST SQUARES (HET)\n",
      "------------------------------------------------------------\n",
      "Data set            :     unknown\n",
      "Weights matrix      :queen_contiguity\n",
      "Dependent Variable  :log_density_lands_rec                Number of Observations:          34\n",
      "Mean dependent var  :      0.0052                Number of Variables   :          11\n",
      "S.D. dependent var  :      0.0174                Degrees of Freedom    :          23\n",
      "Pseudo R-squared    :      0.3526\n",
      "N. of iterations    :           1                Step1c computed       :          No\n",
      "\n",
      "------------------------------------------------------------------------------------\n",
      "            Variable     Coefficient       Std.Error     z-Statistic     Probability\n",
      "------------------------------------------------------------------------------------\n",
      "            CONSTANT         0.00514         0.00170         3.01851         0.00254\n",
      "                elev         0.07442         0.03677         2.02433         0.04294\n",
      "                temp         0.07025         0.03472         2.02324         0.04305\n",
      "              precip         0.03334         0.02734         1.21966         0.22260\n",
      "                 rmd         0.03861         0.03364         1.14795         0.25099\n",
      "              p_lluv        -0.01339         0.01490        -0.89865         0.36884\n",
      "              p_seco        -0.01790         0.01308        -1.36800         0.17131\n",
      "             isoterm        -0.01131         0.01595        -0.70928         0.47815\n",
      "            est_temp         0.00572         0.00629         0.90972         0.36297\n",
      "          rango_temp        -0.04842         0.03889        -1.24515         0.21308\n",
      "          est_precip         0.00384         0.00797         0.48202         0.62979\n",
      "              lambda        -0.05758         0.05194        -1.10861         0.26760\n",
      "------------------------------------------------------------------------------------\n",
      "================================ END OF REPORT =====================================\n"
     ]
    }
   ],
   "source": [
    "# Ajustar el modelo de error espacial (GM_Error_Het)\n",
    "spatial_error_model = spreg.GM_Error_Het(y, X_scaled, w=w,\n",
    "                                      name_y='log_conteo',\n",
    "                                      name_x=independent_vars,\n",
    "                                      name_w='queen_contiguity')\n",
    "\n",
    "# Imprimir el resumen del modelo de error espacial\n",
    "print(spatial_error_model.summary)"
   ]
  },
  {
   "cell_type": "markdown",
   "id": "e6d11732",
   "metadata": {},
   "source": [
    "### Modelo de retardo espacial (SAR) — GM_Lag\n",
    "\n",
    "Incluye rezagos espaciales de la variable dependiente (Wy) como regresor. Es un modelo de interdependencia directa entre las unidades. Implica que el valor de y en una región depende de los valores de y en regiones vecinas.\n",
    "\n",
    "Útil cuando: Los efectos espaciales son endógenos (es decir, se transmiten directamente entre unidades)."
   ]
  },
  {
   "cell_type": "code",
   "execution_count": 20,
   "id": "3cd2e5e9",
   "metadata": {},
   "outputs": [
    {
     "name": "stdout",
     "output_type": "stream",
     "text": [
      "REGRESSION RESULTS\n",
      "------------------\n",
      "\n",
      "SUMMARY OF OUTPUT: SPATIAL TWO STAGE LEAST SQUARES\n",
      "--------------------------------------------------\n",
      "Data set            :     unknown\n",
      "Weights matrix      :queen_contiguity\n",
      "Dependent Variable  :  log_conteo                Number of Observations:          34\n",
      "Mean dependent var  :      2.7670                Number of Variables   :          12\n",
      "S.D. dependent var  :      1.9525                Degrees of Freedom    :          22\n",
      "Pseudo R-squared    :      0.4734\n",
      "Spatial Pseudo R-squared:  0.4771\n",
      "\n",
      "------------------------------------------------------------------------------------\n",
      "            Variable     Coefficient       Std.Error     z-Statistic     Probability\n",
      "------------------------------------------------------------------------------------\n",
      "            CONSTANT         2.48554         0.87660         2.83545         0.00458\n",
      "                elev        13.30003         5.07197         2.62226         0.00873\n",
      "                temp        13.51779         4.97911         2.71490         0.00663\n",
      "              precip         2.25644         1.94211         1.16185         0.24530\n",
      "                 rmd        -2.73060         4.90084        -0.55717         0.57741\n",
      "              p_lluv        -1.16304         1.37049        -0.84863         0.39609\n",
      "              p_seco        -0.57705         0.99362        -0.58075         0.56141\n",
      "             isoterm         1.81561         2.61975         0.69305         0.48828\n",
      "            est_temp         0.15373         0.79296         0.19387         0.84628\n",
      "          rango_temp         2.96280         5.47130         0.54152         0.58815\n",
      "          est_precip        -0.39049         0.89301        -0.43727         0.66192\n",
      "        W_log_conteo         0.01988         0.05955         0.33380         0.73853\n",
      "------------------------------------------------------------------------------------\n",
      "Instrumented: W_log_conteo\n",
      "Instruments: W_elev, W_est_precip, W_est_temp, W_isoterm, W_p_lluv,\n",
      "             W_p_seco, W_precip, W_rango_temp, W_rmd, W_temp\n",
      "\n",
      "DIAGNOSTICS FOR SPATIAL DEPENDENCE\n",
      "TEST                              DF         VALUE           PROB\n",
      "Anselin-Kelejian Test             1          0.128           0.7210\n",
      "\n",
      "SPATIAL LAG MODEL IMPACTS\n",
      "Impacts computed using the 'simple' method.\n",
      "            Variable         Direct        Indirect          Total\n",
      "                elev        13.3000          0.2698         13.5698\n",
      "                temp        13.5178          0.2742         13.7920\n",
      "              precip         2.2564          0.0458          2.3022\n",
      "                 rmd        -2.7306         -0.0554         -2.7860\n",
      "              p_lluv        -1.1630         -0.0236         -1.1866\n",
      "              p_seco        -0.5770         -0.0117         -0.5888\n",
      "             isoterm         1.8156          0.0368          1.8524\n",
      "            est_temp         0.1537          0.0031          0.1568\n",
      "          rango_temp         2.9628          0.0601          3.0229\n",
      "          est_precip        -0.3905         -0.0079         -0.3984\n",
      "================================ END OF REPORT =====================================\n"
     ]
    }
   ],
   "source": [
    "# Ajustar el modelo de retardo espacial (GM_Lag) =SAR\n",
    "spatial_lag_model = spreg.GM_Lag(y, X_scaled, w=w,\n",
    "                                name_y='log_conteo',\n",
    "                                name_x=independent_vars,\n",
    "                                name_w='queen_contiguity')\n",
    "\n",
    "# Imprimir el resumen del modelo de retardo espacial\n",
    "print(spatial_lag_model.summary)"
   ]
  },
  {
   "cell_type": "markdown",
   "id": "9819ea44",
   "metadata": {},
   "source": [
    "### 2. Modelos de regresión para dependencia espacial tipo CAR (Modelos autorregresivos condicionales)\n",
    "\n",
    "Rho típicamente varía entre 0 y 1 e indica la fuerza de la autocorrelación espacial. Un valor de 0 significa que no hay autocorrelación espacial, mientras que un valor más cercano a 1 indica una fuerte autocorrelación espacial.\n",
    "\n",
    "A diferencia de los modelos CAR “propios” (donde rho < 1), la distribución conjunta de un modelo ICAR es “impropia”, lo que significa que no se integra a 1. Los modelos ICAR son particularmente útiles para modelar el suavizado espacial. Imponen una estructura donde las unidades vecinas tienen distribuciones posteriores que tienden a estar cerca unas de otras. Esto es útil cuando se espera que las áreas geográficamente cercanas tengan tasas o niveles de la variable de respuesta similares debido a factores espaciales no medidos. Los efectos espaciales en un modelo ICAR implican una restricción de suma a cero. Esto significa que la suma de los efectos espaciales a través de todas las unidades espaciales es cero. Al imponer la restricción de suma a cero, se fija un punto de referencia y se asegura que haya una única solución para los efectos espaciales que mejor se ajuste a los datos. \n",
    "\n"
   ]
  },
  {
   "cell_type": "markdown",
   "id": "51121baa",
   "metadata": {},
   "source": [
    "Este modelo de regresión tiene desarrollo en Código de R. "
   ]
  },
  {
   "cell_type": "markdown",
   "id": "b2ad6d29",
   "metadata": {},
   "source": [
    "# Heterogeneidad espacial"
   ]
  },
  {
   "cell_type": "markdown",
   "id": "325328a1",
   "metadata": {},
   "source": [
    " Modelos que permiten la variación espacial de los coeficientes de las variables predictoras, permitiendo capturar la heterogeneidad inherente al terreno (Rey et al. 2023). Entre estos enfoques se encuentran los modelos multiniveles (Wong 1985) (también conocidos como jerárquicos, y en algunos casos modelos mixtos o regímenes espaciales) y los modelos de regresión espacial ponderada (GWR, por sus siglas en inglés) (Brunsdon 1996). \n",
    " \n",
    " Los modelos multiniveles permiten modelar la variabilidad espacial mediante la introducción de estructuras jerárquicas. Resulta particularmente útil cuando los datos presentan una organización natural en grupos o niveles (por ejemplo, cuencas y subcuencas). En contraste, los modelos GWR son menos complejos computacionalmente, ya que no requieren definir niveles jerárquicos. Los modelos GWR permiten que los coeficientes de las variables predictoras varíen para cada observación."
   ]
  },
  {
   "cell_type": "markdown",
   "id": "18c3df00",
   "metadata": {},
   "source": [
    "Los efectos fijos espaciales introducen econometricamente la noción de heterogeneidad espacial. Lo hacen en la forma más simple posible: al permitir que el término constante varíe geográficamente. Los demás elementos de la regresión permanecen sin cambios y, por lo tanto, se aplican uniformemente en todo el espacio. La idea de los regímenes espaciales (RE) es generalizar el enfoque de los efectos fijos espaciales para permitir que no solo el término constante varíe, sino también cualquier otra variable explicativa. Esto implica que la ecuación que estaremos estimando es:\n",
    " $$\\log{P_i} = \\alpha_r + \\sum_k \\mathbf{X}_{ki}\\beta_{k-r} + \\epsilon_i$$"
   ]
  },
  {
   "cell_type": "markdown",
   "id": "801e9faf",
   "metadata": {},
   "source": [
    "donde no solo permitimos que el término constante varíe por región ($\\alpha_r$\n",
    "), sino también cada otro parámetro ($\\beta_{k-r}$)."
   ]
  },
  {
   "cell_type": "markdown",
   "id": "fe3e7921",
   "metadata": {},
   "source": [
    "Código en R. Se realizo para el dataset de Municipios con efecto aleatorios por departamento. Nota: Evalue los efectos aleatorio a nivel de municipios y se generaba una matriz singular. "
   ]
  },
  {
   "cell_type": "markdown",
   "id": "7a756f38",
   "metadata": {},
   "source": [
    "# Modelos con dependencia y hetereogeneidad espacial"
   ]
  },
  {
   "cell_type": "markdown",
   "id": "d2e9c794",
   "metadata": {},
   "source": [
    "Una característica fundamental de los datos espaciales es la presencia simultánea de dependencia espacial y heterogeneidad espacial. La dependencia espacial se refiere al hecho de que las observaciones cercanas tienden a parecerse más entre sí que las distantes, debido a procesos subyacentes que operan en el espacio geográfico. Por su parte, la heterogeneidad espacial se manifiesta en diferencias sistemáticas entre regiones o ubicaciones, ya sea por condiciones ambientales, sociales o geológicas que varían en el territorio. "
   ]
  },
  {
   "cell_type": "markdown",
   "id": "d5b69b8f",
   "metadata": {},
   "source": [
    "* Estrategias para modelar conjuntamente dependencia y heterogenidad espacial:\n",
    "1. Los modelos autoregresivos condicionales (CAR), implementados en la librería INLA, permiten incorporar simultáneamente estos dos aspectos en un marco bayesiano. La dependencia espacial se modela mediante una matriz de vecindad, y la heterogeneidad se introduce agregando un efecto aleatorio no estructurado (iid), como en el modelo BYM (Besag-York-Mollié). \n",
    "\n",
    "2. En la familia de modelos simultáneos autoregresivos (SAR) —implementados en R mediante la librería spatialreg— la dependencia espacial puede incorporarse a través de la variable dependiente (modelo SARlag), de los errores (SARerror), o de las covariables (modelo SLX). En estos modelos, la heterogeneidad espacial se representa explícitamente mediante interacciones entre las covariables continuas y un factor espacial categórico, como subcuencas o regiones, permitiendo que los efectos de las variables explicativas cambien según la unidad espacial. Este tipo de interacción permite capturar variaciones estructurales (regímenes espaciales) sin necesidad de introducir efectos aleatorios, y es una forma eficaz de modelar heterogeneidad espacial en un contexto frecuentista."
   ]
  }
 ],
 "metadata": {
  "kernelspec": {
   "display_name": "GeoAnalysis",
   "language": "python",
   "name": "python3"
  },
  "language_info": {
   "codemirror_mode": {
    "name": "ipython",
    "version": 3
   },
   "file_extension": ".py",
   "mimetype": "text/x-python",
   "name": "python",
   "nbconvert_exporter": "python",
   "pygments_lexer": "ipython3",
   "version": "3.12.9"
  }
 },
 "nbformat": 4,
 "nbformat_minor": 5
}
