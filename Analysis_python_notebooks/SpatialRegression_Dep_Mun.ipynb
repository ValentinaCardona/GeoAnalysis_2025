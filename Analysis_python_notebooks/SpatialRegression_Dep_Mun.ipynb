{
 "cells": [
  {
   "cell_type": "markdown",
   "id": "cae2abf0",
   "metadata": {},
   "source": [
    "# Regresión espacial \n",
    "\n",
    "Consideraremos dos procesos relacionados pero muy diferentes que dan lugar a efectos espaciales: *Heterogeneidad Espacial (SH)* y *Dependencia Espacial (SD)*.\n",
    "\n",
    "La heterogeneidad espacial se refiere a la variación en las propiedades de los datos en diferentes áreas del espacio, lo que implica que las relaciones entre las variables no necesariamente sean homogéneas en toda la región de estudio (Rey et al. 2023). La dependencia espacial, por otro lado, se refiere a la tendencia de valores similares a agruparse espacialmente (Anselin 1988). Esto implica que el valor de una variable en un punto del espacio está correlacionado con los valores de la misma variable en puntos cercanos, un fenómeno también conocido como autocorrelación. \n",
    "\n",
    "Cuando la heterogeneidad y la dependencia espacial no se incorporan adecuadamente en los modelos, la estructura espacial queda remanente en los residuales, lo cual se traduce en una falta de ajuste adecuada del modelo (Anselin 2022, Cressie 2015). Este remanente espacial en los residuos es una violación de las suposiciones de independencia que subyacen a los modelos clásicos, ya que los modelos clásicos suelen asumir que las observaciones son independientes entre sí (sin dependencia espacial) y que la relación entre las variables es constante en toda la región de estudio (sin heterogeneidad espacial) (Lesage 2011, Banerjee 2008). Esto afecta la validez de las inferencias estadísticas y resulta en modelos con predicciones sesgadas.\n",
    "\n"
   ]
  },
  {
   "cell_type": "markdown",
   "id": "9ea61b38",
   "metadata": {},
   "source": [
    "## Spatial models\n",
    "Discrete data\n",
    "\n",
    "1. Spatial heterogeneity:\n",
    "    - Spatial Regimes (SR)\n",
    "        * Spatial regimes slopes\n",
    "        * Spatial fixed effects\n",
    "    - Geographically Weighthed Regression (GWR)\n",
    "\n",
    "2. Spatial dependency:\n",
    "    - Conditional Autoregressive Models (CAR)\n",
    "    - Simultaneous Autoregressive Models\n",
    "        * Spatially-lagged X Model (SLX) [$WX_y$] - Autocorrelación exógena en los predictores\n",
    "        * Spatially-lagged Y Model (SAR) [$\\rho Wy$] - Autocorrelación endógena en la variable respuesta\n",
    "        * Spatially-lagged Error Model (SEM) [$\\lambda W \\mu$]- Autocorrelación en el término del error\n"
   ]
  },
  {
   "cell_type": "markdown",
   "id": "8d0f7280",
   "metadata": {},
   "source": [
    "### Dependencia espacial\n"
   ]
  },
  {
   "cell_type": "markdown",
   "id": "ac19ad67",
   "metadata": {},
   "source": [
    "1. Modelos de regresión para dependencia espacial tipo SAR (Modelos autorregresivos espaciales)\n",
    "\n",
    "Para incorporar la dependencia espacial en los modelos, se puede utilizar los llamados Modelos Autoregresivos Simultáneos (Whittle 1954), los cuales permiten modelar la dependencia espacial a través de la inclusión de una matriz de vecindad. Esta matriz define la estructura de los vecinos de cada unidad de mapeo, ya sea en función de la distancia entre unidades o a partir de relaciones de contigüidad (Anselin 1996, Elhorst 2014).\n",
    "\n",
    "Los modelos de autoregresión espacial, en lugar de asumir que las observaciones son independientes entre sí, reconocen que las unidades cercanas en el espacio tienden a presentar valores similares (Anselin 1988`).\n",
    "\n",
    "$$Y = \\rho W Y + X \\beta + \\epsilon$$ \n"
   ]
  },
  {
   "cell_type": "markdown",
   "id": "f12f3a91",
   "metadata": {},
   "source": [
    "2. Modelos de regresión para dependencia espacial tipo CAR (Modelos autorregresivos condicionales)\n",
    "\n",
    "Rho típicamente varía entre 0 y 1 e indica la fuerza de la autocorrelación espacial. Un valor de 0 significa que no hay autocorrelación espacial, mientras que un valor más cercano a 1 indica una fuerte autocorrelación espacial.\n",
    "\n",
    "A diferencia de los modelos CAR “propios” (donde rho < 1), la distribución conjunta de un modelo ICAR es “impropia”, lo que significa que no se integra a 1. Los modelos ICAR son particularmente útiles para modelar el suavizado espacial. Imponen una estructura donde las unidades vecinas tienen distribuciones posteriores que tienden a estar cerca unas de otras. Esto es útil cuando se espera que las áreas geográficamente cercanas tengan tasas o niveles de la variable de respuesta similares debido a factores espaciales no medidos. Los efectos espaciales en un modelo ICAR implican una restricción de suma a cero. Esto significa que la suma de los efectos espaciales a través de todas las unidades espaciales es cero. Al imponer la restricción de suma a cero, se fija un punto de referencia y se asegura que haya una única solución para los efectos espaciales que mejor se ajuste a los datos. \n"
   ]
  },
  {
   "cell_type": "markdown",
   "id": "c1ad9cfb",
   "metadata": {},
   "source": [
    "### NOTA: \n",
    "Antes de usar modelos espaciales, se debe evaluar si existe estructura espacial en los datos de entrada o en el residuo de los modelos. Para ello, revisar el gráfico de dispersión de Moran y el estadístico $MI$ de Moran. El Índice de Moran (MI) varía de [1, -1]. Cero indica ausencia de autocorrelación espacial, +1 indica una agrupación perfecta de valores similares, y -1 indica dispersión.\n"
   ]
  },
  {
   "cell_type": "markdown",
   "id": "ceae7661",
   "metadata": {},
   "source": [
    "# Análisis a nivel de Departamentos"
   ]
  },
  {
   "cell_type": "code",
   "execution_count": 9,
   "id": "ec9250c3",
   "metadata": {},
   "outputs": [
    {
     "name": "stdout",
     "output_type": "stream",
     "text": [
      "<class 'geopandas.geodataframe.GeoDataFrame'>\n",
      "RangeIndex: 34 entries, 0 to 33\n",
      "Data columns (total 15 columns):\n",
      " #   Column                                   Non-Null Count  Dtype   \n",
      "---  ------                                   --------------  -----   \n",
      " 0   ID_ESPACIA                               34 non-null     object  \n",
      " 1   AREA_OFICI                               34 non-null     float64 \n",
      " 2   NOMBRE_DPT                               34 non-null     object  \n",
      " 3   NUMPOINTS                                34 non-null     float64 \n",
      " 4   elev_mean                                34 non-null     float64 \n",
      " 5   Temperatura_media_anual_mean             34 non-null     float64 \n",
      " 6   Precipitacion_anual_mean                 34 non-null     float64 \n",
      " 7   Rango_medio_diurno_mean                  34 non-null     float64 \n",
      " 8   Precipitacion_mes_mas_lluvioso_mean      34 non-null     float64 \n",
      " 9   Precipitacion_mes_mas_seco_mean          34 non-null     float64 \n",
      " 10  Isotermalidad_mean                       34 non-null     float64 \n",
      " 11  Estacionalidad_de_la_temperatura_mean    34 non-null     float64 \n",
      " 12  Rango_anual_de_temperatura_mean          34 non-null     float64 \n",
      " 13  Estacionalidad_de_la_precipitacion_mean  34 non-null     float64 \n",
      " 14  geometry                                 34 non-null     geometry\n",
      "dtypes: float64(12), geometry(1), object(2)\n",
      "memory usage: 4.1+ KB\n"
     ]
    }
   ],
   "source": [
    "import geopandas as gpd\n",
    "import numpy as np\n",
    "import libpysal\n",
    "from libpysal.weights import Queen\n",
    "from sklearn.preprocessing import StandardScaler\n",
    "import spreg\n",
    "\n",
    "# Cargar datos\n",
    "gdf = gpd.read_file(r\"G:\\My Drive\\Investigacion2025\\Posgrado_Statistics\\GeoAnalysis\\data\\Balso_Departamento.gpkg\")\n",
    "gdf.info()\n",
    "\n",
    "# Renombramos variables\n",
    "gdf = gdf.rename(columns={'NOMBRE_DPT': 'departamento', \n",
    "                    'AREA_OFICI': 'area',\n",
    "                    'NUMPOINTS': 'conteo'})\n"
   ]
  },
  {
   "cell_type": "code",
   "execution_count": 10,
   "id": "a34f51a6",
   "metadata": {},
   "outputs": [],
   "source": [
    "# Renombrar variables en el gdf original a nombres cortos\n",
    "gdf = gdf.rename(columns={\n",
    "    'elev_mean': 'elev',\n",
    "    'Temperatura_media_anual_mean': 'temp',\n",
    "    'Precipitacion_anual_mean': 'precip',\n",
    "    'Rango_medio_diurno_mean': 'rmd',\n",
    "    'Precipitacion_mes_mas_lluvioso_mean': 'p_lluv',\n",
    "    'Precipitacion_mes_mas_seco_mean': 'p_seco',\n",
    "    'Isotermalidad_mean': 'isoterm',\n",
    "    'Estacionalidad_de_la_temperatura_mean': 'est_temp',\n",
    "    'Rango_anual_de_temperatura_mean': 'rango_temp',\n",
    "    'Estacionalidad_de_la_precipitacion_mean': 'est_precip'\n",
    "})"
   ]
  },
  {
   "cell_type": "markdown",
   "id": "e8c117ad",
   "metadata": {},
   "source": [
    "1. *Modelo SLX (Spatial Lag of X).* \n",
    "\n",
    "Autocorrelación exógena entre las variables predictoras\n",
    "\n",
    "Evalua la siguiente pregunta: ¿Cómo la dependencia espacial de las variables explicativas influyen en la variable de interés? "
   ]
  },
  {
   "cell_type": "code",
   "execution_count": 11,
   "id": "ba3e901a",
   "metadata": {},
   "outputs": [
    {
     "name": "stderr",
     "output_type": "stream",
     "text": [
      "C:\\Users\\Valentina Cardona\\AppData\\Local\\Temp\\ipykernel_26684\\1722801646.py:19: FutureWarning: `use_index` defaults to False but will default to True in future. Set True/False directly to control this behavior and silence this warning\n",
      "  w = Queen.from_dataframe(gdf)\n"
     ]
    },
    {
     "name": "stdout",
     "output_type": "stream",
     "text": [
      "REGRESSION RESULTS\n",
      "------------------\n",
      "\n",
      "SUMMARY OF OUTPUT: ORDINARY LEAST SQUARES\n",
      "-----------------------------------------\n",
      "Data set            :     unknown\n",
      "Weights matrix      :        None\n",
      "Dependent Variable  :  log_conteo                Number of Observations:          34\n",
      "Mean dependent var  :      2.7670                Number of Variables   :          21\n",
      "S.D. dependent var  :      1.9525                Degrees of Freedom    :          13\n",
      "R-squared           :      0.8612\n",
      "Adjusted R-squared  :      0.6476\n",
      "Sum squared residual:     17.4641                F-statistic           :      4.0324\n",
      "Sigma-square        :       1.343                Prob(F-statistic)     :    0.006512\n",
      "S.E. of regression  :       1.159                Log likelihood        :     -36.918\n",
      "Sigma-square ML     :       0.514                Akaike info criterion :     115.837\n",
      "S.E of regression ML:      0.7167                Schwarz criterion     :     147.890\n",
      "\n",
      "------------------------------------------------------------------------------------\n",
      "            Variable     Coefficient       Std.Error     t-Statistic     Probability\n",
      "------------------------------------------------------------------------------------\n",
      "            CONSTANT         3.52197         0.61398         5.73624         0.00007\n",
      "                elev        20.83189         5.25694         3.96274         0.00162\n",
      "                temp        20.75923         5.03832         4.12027         0.00121\n",
      "              precip         2.74570         2.09256         1.31212         0.21218\n",
      "                 rmd        -4.31359         5.19102        -0.83097         0.42099\n",
      "              p_lluv        -0.96593         1.66781        -0.57916         0.57238\n",
      "              p_seco        -0.84777         1.02864        -0.82417         0.42471\n",
      "             isoterm         1.78730         2.89376         0.61764         0.54748\n",
      "            est_temp        -0.77811         0.82693        -0.94097         0.36388\n",
      "          rango_temp         4.78724         5.71867         0.83712         0.41765\n",
      "          est_precip        -0.94671         0.98225        -0.96381         0.35273\n",
      "              w_elev        -1.70595         2.31342        -0.73741         0.47397\n",
      "              w_temp        -1.51326         2.34050        -0.64656         0.52917\n",
      "            w_precip        -1.19216         1.58827        -0.75060         0.46626\n",
      "               w_rmd        -7.55816         5.24939        -1.43982         0.17356\n",
      "            w_p_lluv         0.17875         1.04413         0.17120         0.86670\n",
      "            w_p_seco         2.30646         0.79102         2.91582         0.01204\n",
      "           w_isoterm         1.45333         3.18347         0.45652         0.65555\n",
      "          w_est_temp        -2.46848         0.60170        -4.10248         0.00125\n",
      "        w_rango_temp         8.69495         6.27541         1.38556         0.18919\n",
      "        w_est_precip         0.56376         0.74384         0.75791         0.46202\n",
      "------------------------------------------------------------------------------------\n",
      "\n",
      "REGRESSION DIAGNOSTICS\n",
      "MULTICOLLINEARITY CONDITION NUMBER         302.663\n",
      "\n",
      "TEST ON NORMALITY OF ERRORS\n",
      "TEST                             DF        VALUE           PROB\n",
      "Jarque-Bera                       2          6.099           0.0474\n",
      "\n",
      "DIAGNOSTICS FOR HETEROSKEDASTICITY\n",
      "RANDOM COEFFICIENTS\n",
      "TEST                             DF        VALUE           PROB\n",
      "Breusch-Pagan test               20         45.470           0.0010\n",
      "Koenker-Bassett test             20         22.707           0.3034\n",
      "================================ END OF REPORT =====================================\n"
     ]
    },
    {
     "name": "stderr",
     "output_type": "stream",
     "text": [
      "c:\\Users\\Valentina Cardona\\anaconda3\\envs\\GeoAnalysis\\Lib\\site-packages\\libpysal\\weights\\contiguity.py:347: UserWarning: The weights matrix is not fully connected: \n",
      " There are 2 disconnected components.\n",
      " There is 1 island with id: 25.\n",
      "  W.__init__(self, neighbors, ids=ids, **kw)\n"
     ]
    }
   ],
   "source": [
    "\n",
    "# Aplica la transformación log + 1 a la varaible de interes\n",
    "import pandas as pd\n",
    "\n",
    "gdf['y'] = np.log(gdf['conteo'] + 1)\n",
    "\n",
    "# Definir las variables dependiente e independientes\n",
    "y = gdf['y'].values.reshape((-1, 1))\n",
    "# Ahora define la lista de variables independientes con los nombres cortos\n",
    "independent_vars = ['elev', 'temp', 'precip', 'rmd', 'p_lluv',\n",
    "    'p_seco', 'isoterm', 'est_temp', 'rango_temp', 'est_precip']\n",
    "X = gdf[independent_vars].values\n",
    "\n",
    "# Escalar las variables independientes\n",
    "st = StandardScaler()\n",
    "X_scaled = st.fit_transform(X)\n",
    "X_scaled_df = pd.DataFrame(X_scaled, columns=independent_vars)\n",
    "\n",
    "# Crear la matriz de pesos espaciales por contigüidad tipo Queen\n",
    "w = Queen.from_dataframe(gdf)\n",
    "\n",
    "# Calcular la autocorrelación exógena de las variables independientes escaladas\n",
    "wx_dict = {}\n",
    "for var in independent_vars:\n",
    "    wx_dict[f'w_{var}'] = libpysal.weights.spatial_lag.lag_spatial(w, X_scaled_df[var])\n",
    "\n",
    "wx_df = pd.DataFrame(wx_dict)\n",
    "\n",
    "# Combinar las variables independientes originales escaladas con sus versiones espacialmente rezagadas\n",
    "slx_exog = pd.concat([X_scaled_df, wx_df], axis=1)\n",
    "\n",
    "# Ajustar el modelo OLS con las variables exógenas espacialmente rezagadas (SLX)\n",
    "ols_model_slx = spreg.OLS(gdf['y'].values.reshape((-1, 1)),\n",
    "                          slx_exog.values,\n",
    "                          name_y='log_conteo',\n",
    "                          name_x=slx_exog.columns.tolist(),\n",
    "                          name_w='queen_contiguity')\n",
    "\n",
    "# Imprimir el resumen del modelo OLS con SLX\n",
    "print(ols_model_slx.summary)\n",
    "\n",
    "with open(\"resumen_modelo.txt\", \"w\") as f:\n",
    "    f.write(str(ols_model_slx.summary))"
   ]
  },
  {
   "cell_type": "markdown",
   "id": "a1f8eed3",
   "metadata": {},
   "source": [
    "2. *Modelo de error espacial (Spatially-lagged Error Model - SEM) * \n",
    "\n",
    "Autocorrelación endógena en el error\n",
    "\n",
    "Modela la dependencia espacial en los errores del modelo, no en las variables predictoras ni en la variable dependiente."
   ]
  },
  {
   "cell_type": "code",
   "execution_count": 12,
   "id": "a495de99",
   "metadata": {},
   "outputs": [
    {
     "name": "stdout",
     "output_type": "stream",
     "text": [
      "REGRESSION RESULTS\n",
      "------------------\n",
      "\n",
      "SUMMARY OF OUTPUT: GM SPATIALLY WEIGHTED LEAST SQUARES (HET)\n",
      "------------------------------------------------------------\n",
      "Data set            :     unknown\n",
      "Weights matrix      :queen_contiguity\n",
      "Dependent Variable  :  log_conteo                Number of Observations:          34\n",
      "Mean dependent var  :      2.7670                Number of Variables   :          11\n",
      "S.D. dependent var  :      1.9525                Degrees of Freedom    :          23\n",
      "Pseudo R-squared    :      0.4716\n",
      "N. of iterations    :           1                Step1c computed       :          No\n",
      "\n",
      "------------------------------------------------------------------------------------\n",
      "            Variable     Coefficient       Std.Error     z-Statistic     Probability\n",
      "------------------------------------------------------------------------------------\n",
      "            CONSTANT         2.77805         0.21485        12.93021         0.00000\n",
      "                elev        14.70040         3.55011         4.14083         0.00003\n",
      "                temp        14.83845         3.54537         4.18531         0.00003\n",
      "              precip         2.24760         2.24166         1.00265         0.31603\n",
      "                 rmd        -3.34935         5.26696        -0.63592         0.52483\n",
      "              p_lluv        -1.09827         1.59802        -0.68727         0.49191\n",
      "              p_seco        -0.47066         1.00821        -0.46683         0.64062\n",
      "             isoterm         1.88463         2.80019         0.67304         0.50092\n",
      "            est_temp        -0.11538         0.59047        -0.19540         0.84508\n",
      "          rango_temp         3.69712         5.76629         0.64116         0.52142\n",
      "          est_precip        -0.42502         0.67786        -0.62700         0.53066\n",
      "              lambda        -0.02007         0.04742        -0.42331         0.67207\n",
      "------------------------------------------------------------------------------------\n",
      "================================ END OF REPORT =====================================\n"
     ]
    }
   ],
   "source": [
    "# Ajustar el modelo de error espacial (GM_Error_Het)\n",
    "spatial_error_model = spreg.GM_Error_Het(y, X_scaled, w=w,\n",
    "                                      name_y='log_conteo',\n",
    "                                      name_x=independent_vars,\n",
    "                                      name_w='queen_contiguity')\n",
    "\n",
    "# Imprimir el resumen del modelo de error espacial\n",
    "print(spatial_error_model.summary)"
   ]
  },
  {
   "cell_type": "markdown",
   "id": "e6d11732",
   "metadata": {},
   "source": [
    "3. *Modelo de retardo espacial (Spatially-lagged Y Model - SAR) * \n",
    "\n",
    "Autocorrelación endógena con la variable dependiente. Implica que el valor de (y) en una región depende de los valores de (y) en regiones vecinas."
   ]
  },
  {
   "cell_type": "code",
   "execution_count": 13,
   "id": "3cd2e5e9",
   "metadata": {},
   "outputs": [
    {
     "name": "stdout",
     "output_type": "stream",
     "text": [
      "REGRESSION RESULTS\n",
      "------------------\n",
      "\n",
      "SUMMARY OF OUTPUT: SPATIAL TWO STAGE LEAST SQUARES\n",
      "--------------------------------------------------\n",
      "Data set            :     unknown\n",
      "Weights matrix      :queen_contiguity\n",
      "Dependent Variable  :  log_conteo                Number of Observations:          34\n",
      "Mean dependent var  :      2.7670                Number of Variables   :          12\n",
      "S.D. dependent var  :      1.9525                Degrees of Freedom    :          22\n",
      "Pseudo R-squared    :      0.4734\n",
      "Spatial Pseudo R-squared:  0.4771\n",
      "\n",
      "------------------------------------------------------------------------------------\n",
      "            Variable     Coefficient       Std.Error     z-Statistic     Probability\n",
      "------------------------------------------------------------------------------------\n",
      "            CONSTANT         2.48554         0.87660         2.83545         0.00458\n",
      "                elev        13.30003         5.07197         2.62226         0.00873\n",
      "                temp        13.51779         4.97911         2.71490         0.00663\n",
      "              precip         2.25644         1.94211         1.16185         0.24530\n",
      "                 rmd        -2.73060         4.90084        -0.55717         0.57741\n",
      "              p_lluv        -1.16304         1.37049        -0.84863         0.39609\n",
      "              p_seco        -0.57705         0.99362        -0.58075         0.56141\n",
      "             isoterm         1.81561         2.61975         0.69305         0.48828\n",
      "            est_temp         0.15373         0.79296         0.19387         0.84628\n",
      "          rango_temp         2.96280         5.47130         0.54152         0.58815\n",
      "          est_precip        -0.39049         0.89301        -0.43727         0.66192\n",
      "        W_log_conteo         0.01988         0.05955         0.33380         0.73853\n",
      "------------------------------------------------------------------------------------\n",
      "Instrumented: W_log_conteo\n",
      "Instruments: W_elev, W_est_precip, W_est_temp, W_isoterm, W_p_lluv,\n",
      "             W_p_seco, W_precip, W_rango_temp, W_rmd, W_temp\n",
      "\n",
      "DIAGNOSTICS FOR SPATIAL DEPENDENCE\n",
      "TEST                              DF         VALUE           PROB\n",
      "Anselin-Kelejian Test             1          0.128           0.7210\n",
      "\n",
      "SPATIAL LAG MODEL IMPACTS\n",
      "Impacts computed using the 'simple' method.\n",
      "            Variable         Direct        Indirect          Total\n",
      "                elev        13.3000          0.2698         13.5698\n",
      "                temp        13.5178          0.2742         13.7920\n",
      "              precip         2.2564          0.0458          2.3022\n",
      "                 rmd        -2.7306         -0.0554         -2.7860\n",
      "              p_lluv        -1.1630         -0.0236         -1.1866\n",
      "              p_seco        -0.5770         -0.0117         -0.5888\n",
      "             isoterm         1.8156          0.0368          1.8524\n",
      "            est_temp         0.1537          0.0031          0.1568\n",
      "          rango_temp         2.9628          0.0601          3.0229\n",
      "          est_precip        -0.3905         -0.0079         -0.3984\n",
      "================================ END OF REPORT =====================================\n"
     ]
    }
   ],
   "source": [
    "# Ajustar el modelo de retardo espacial (GM_Lag) =SAR\n",
    "spatial_lag_model = spreg.GM_Lag(y, X_scaled, w=w,\n",
    "                                name_y='log_conteo',\n",
    "                                name_x=independent_vars,\n",
    "                                name_w='queen_contiguity')\n",
    "\n",
    "# Imprimir el resumen del modelo de retardo espacial\n",
    "print(spatial_lag_model.summary)"
   ]
  },
  {
   "cell_type": "markdown",
   "id": "574b5a35",
   "metadata": {},
   "source": [
    "# Análisis a nivel de Municipios"
   ]
  },
  {
   "cell_type": "markdown",
   "id": "b2ad6d29",
   "metadata": {},
   "source": [
    "# Heterogeneidad espacial"
   ]
  },
  {
   "cell_type": "markdown",
   "id": "325328a1",
   "metadata": {},
   "source": [
    " Modelos que permiten la variación espacial de los coeficientes de las variables predictoras, permitiendo capturar la heterogeneidad inherente al terreno (Rey et al. 2023). Entre estos enfoques se encuentran los modelos multiniveles (Wong 1985) (también conocidos como jerárquicos, y en algunos casos modelos mixtos o regímenes espaciales) y los modelos de regresión espacial ponderada (GWR, por sus siglas en inglés) (Brunsdon 1996). \n",
    " \n",
    " Los modelos multiniveles permiten modelar la variabilidad espacial mediante la introducción de estructuras jerárquicas. Resulta particularmente útil cuando los datos presentan una organización natural en grupos o niveles (por ejemplo, cuencas y subcuencas). En contraste, los modelos GWR son menos complejos computacionalmente, ya que no requieren definir niveles jerárquicos. Los modelos GWR permiten que los coeficientes de las variables predictoras varíen para cada observación."
   ]
  },
  {
   "cell_type": "markdown",
   "id": "18c3df00",
   "metadata": {},
   "source": [
    "Los efectos fijos espaciales introducen econometricamente la noción de heterogeneidad espacial. Lo hacen en la forma más simple posible: al permitir que el término constante varíe geográficamente. Los demás elementos de la regresión permanecen sin cambios y, por lo tanto, se aplican uniformemente en todo el espacio. La idea de los regímenes espaciales (RE) es generalizar el enfoque de los efectos fijos espaciales para permitir que no solo el término constante varíe, sino también cualquier otra variable explicativa. Esto implica que la ecuación que estaremos estimando es:\n",
    " $$\\log{P_i} = \\alpha_r + \\sum_k \\mathbf{X}_{ki}\\beta_{k-r} + \\epsilon_i$$"
   ]
  },
  {
   "cell_type": "markdown",
   "id": "801e9faf",
   "metadata": {},
   "source": [
    "donde no solo permitimos que el término constante varíe por región ($\\alpha_r$\n",
    "), sino también cada otro parámetro ($\\beta_{k-r}$)."
   ]
  },
  {
   "cell_type": "markdown",
   "id": "fe3e7921",
   "metadata": {},
   "source": [
    "Código en R. Se realizo para el dataset de Municipios con efecto aleatorios por departamento. Nota: Evalue los efectos aleatorio a nivel de municipios y se generaba una matriz singular. "
   ]
  },
  {
   "cell_type": "markdown",
   "id": "7a756f38",
   "metadata": {},
   "source": [
    "# Modelos con dependencia y hetereogeneidad espacial"
   ]
  },
  {
   "cell_type": "markdown",
   "id": "d2e9c794",
   "metadata": {},
   "source": [
    "Una característica fundamental de los datos espaciales es la presencia simultánea de dependencia espacial y heterogeneidad espacial. La dependencia espacial se refiere al hecho de que las observaciones cercanas tienden a parecerse más entre sí que las distantes, debido a procesos subyacentes que operan en el espacio geográfico. Por su parte, la heterogeneidad espacial se manifiesta en diferencias sistemáticas entre regiones o ubicaciones, ya sea por condiciones ambientales, sociales o geológicas que varían en el territorio. "
   ]
  },
  {
   "cell_type": "markdown",
   "id": "d5b69b8f",
   "metadata": {},
   "source": [
    "* Estrategias para modelar conjuntamente dependencia y heterogenidad espacial:\n",
    "1. Los modelos autoregresivos condicionales (CAR), implementados en la librería INLA, permiten incorporar simultáneamente estos dos aspectos en un marco bayesiano. La dependencia espacial se modela mediante una matriz de vecindad, y la heterogeneidad se introduce agregando un efecto aleatorio no estructurado (iid), como en el modelo BYM (Besag-York-Mollié). \n",
    "\n",
    "2. En la familia de modelos simultáneos autoregresivos (SAR) —implementados en R mediante la librería spatialreg— la dependencia espacial puede incorporarse a través de la variable dependiente (modelo SARlag), de los errores (SARerror), o de las covariables (modelo SLX). En estos modelos, la heterogeneidad espacial se representa explícitamente mediante interacciones entre las covariables continuas y un factor espacial categórico, como subcuencas o regiones, permitiendo que los efectos de las variables explicativas cambien según la unidad espacial. Este tipo de interacción permite capturar variaciones estructurales (regímenes espaciales) sin necesidad de introducir efectos aleatorios, y es una forma eficaz de modelar heterogeneidad espacial en un contexto frecuentista."
   ]
  }
 ],
 "metadata": {
  "kernelspec": {
   "display_name": "GeoAnalysis",
   "language": "python",
   "name": "python3"
  },
  "language_info": {
   "codemirror_mode": {
    "name": "ipython",
    "version": 3
   },
   "file_extension": ".py",
   "mimetype": "text/x-python",
   "name": "python",
   "nbconvert_exporter": "python",
   "pygments_lexer": "ipython3",
   "version": "3.12.9"
  }
 },
 "nbformat": 4,
 "nbformat_minor": 5
}
