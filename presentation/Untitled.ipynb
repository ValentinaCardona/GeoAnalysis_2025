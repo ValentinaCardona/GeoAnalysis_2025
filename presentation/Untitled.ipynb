{
 "cells": [
  {
   "cell_type": "code",
   "execution_count": 1,
   "id": "e5c1f11a-e3de-4012-8274-0e5e75d5c71b",
   "metadata": {},
   "outputs": [
    {
     "ename": "NameError",
     "evalue": "name 'gpd' is not defined",
     "output_type": "error",
     "traceback": [
      "\u001b[1;31m---------------------------------------------------------------------------\u001b[0m",
      "\u001b[1;31mNameError\u001b[0m                                 Traceback (most recent call last)",
      "Cell \u001b[1;32mIn[1], line 1\u001b[0m\n\u001b[1;32m----> 1\u001b[0m berlin \u001b[38;5;241m=\u001b[39m gpd\u001b[38;5;241m.\u001b[39mread_file(\u001b[38;5;124m\"\u001b[39m\u001b[38;5;124mhttps://raw.githubusercontent.com/ljwolf/geopython/master/data/berlin-neighbourhoods.geojson\u001b[39m\u001b[38;5;124m\"\u001b[39m) \u001b[38;5;66;03m#tambien se puede descargar de \"https://raw.githubusercontent.com/ljwolf/geopython/master/data/berlin-neighbourhoods.geojson\")\u001b[39;00m\n\u001b[0;32m      3\u001b[0m \u001b[38;5;28mtype\u001b[39m(berlin)\n",
      "\u001b[1;31mNameError\u001b[0m: name 'gpd' is not defined"
     ]
    }
   ],
   "source": [
    "berlin = gpd.read_file(\"https://raw.githubusercontent.com/ljwolf/geopython/master/data/berlin-neighbourhoods.geojson\") #tambien se puede descargar de \"https://raw.githubusercontent.com/ljwolf/geopython/master/data/berlin-neighbourhoods.geojson\")\n",
    "\n",
    "type(berlin)"
   ]
  },
  {
   "cell_type": "code",
   "execution_count": null,
   "id": "bb294fac-ba35-43b2-8b68-4a53d562d26d",
   "metadata": {},
   "outputs": [],
   "source": []
  }
 ],
 "metadata": {
  "kernelspec": {
   "display_name": "GeoAnalysis",
   "language": "python",
   "name": "geoanalysis"
  },
  "language_info": {
   "codemirror_mode": {
    "name": "ipython",
    "version": 3
   },
   "file_extension": ".py",
   "mimetype": "text/x-python",
   "name": "python",
   "nbconvert_exporter": "python",
   "pygments_lexer": "ipython3",
   "version": "3.12.7"
  }
 },
 "nbformat": 4,
 "nbformat_minor": 5
}
